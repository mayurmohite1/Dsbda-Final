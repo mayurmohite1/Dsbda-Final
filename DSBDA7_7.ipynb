{
 "cells": [
  {
   "cell_type": "code",
   "execution_count": 64,
   "id": "5db5f0fe",
   "metadata": {},
   "outputs": [],
   "source": [
    "import nltk"
   ]
  },
  {
   "cell_type": "code",
   "execution_count": 65,
   "id": "c6567936",
   "metadata": {},
   "outputs": [],
   "source": [
    "from nltk import sent_tokenize, word_tokenize"
   ]
  },
  {
   "cell_type": "code",
   "execution_count": 66,
   "id": "415b09b1",
   "metadata": {},
   "outputs": [],
   "source": [
    "text = 'The sun set behind the distant mountains, casting a warm glow across the tranquil lake. As night fell, the stars emerged, painting the sky with their shimmering brilliance.'"
   ]
  },
  {
   "cell_type": "code",
   "execution_count": 67,
   "id": "182af5e0",
   "metadata": {},
   "outputs": [
    {
     "data": {
      "text/plain": [
       "'The sun set behind the distant mountains, casting a warm glow across the tranquil lake. As night fell, the stars emerged, painting the sky with their shimmering brilliance.'"
      ]
     },
     "execution_count": 67,
     "metadata": {},
     "output_type": "execute_result"
    }
   ],
   "source": [
    "text"
   ]
  },
  {
   "cell_type": "code",
   "execution_count": 68,
   "id": "09621105",
   "metadata": {},
   "outputs": [],
   "source": [
    "tokenize_sent = sent_tokenize(text)"
   ]
  },
  {
   "cell_type": "code",
   "execution_count": 69,
   "id": "768b3617",
   "metadata": {},
   "outputs": [
    {
     "data": {
      "text/plain": [
       "['The sun set behind the distant mountains, casting a warm glow across the tranquil lake.',\n",
       " 'As night fell, the stars emerged, painting the sky with their shimmering brilliance.']"
      ]
     },
     "execution_count": 69,
     "metadata": {},
     "output_type": "execute_result"
    }
   ],
   "source": [
    "tokenize_sent"
   ]
  },
  {
   "cell_type": "code",
   "execution_count": 70,
   "id": "92478fba",
   "metadata": {},
   "outputs": [],
   "source": [
    "tokenize_word= word_tokenize(text)"
   ]
  },
  {
   "cell_type": "code",
   "execution_count": 71,
   "id": "9653925a",
   "metadata": {},
   "outputs": [
    {
     "data": {
      "text/plain": [
       "33"
      ]
     },
     "execution_count": 71,
     "metadata": {},
     "output_type": "execute_result"
    }
   ],
   "source": [
    "len(tokenize_word)"
   ]
  },
  {
   "cell_type": "code",
   "execution_count": 72,
   "id": "76712532",
   "metadata": {},
   "outputs": [
    {
     "data": {
      "text/plain": [
       "['The',\n",
       " 'sun',\n",
       " 'set',\n",
       " 'behind',\n",
       " 'the',\n",
       " 'distant',\n",
       " 'mountains',\n",
       " ',',\n",
       " 'casting',\n",
       " 'a',\n",
       " 'warm',\n",
       " 'glow',\n",
       " 'across',\n",
       " 'the',\n",
       " 'tranquil',\n",
       " 'lake',\n",
       " '.',\n",
       " 'As',\n",
       " 'night',\n",
       " 'fell',\n",
       " ',',\n",
       " 'the',\n",
       " 'stars',\n",
       " 'emerged',\n",
       " ',',\n",
       " 'painting',\n",
       " 'the',\n",
       " 'sky',\n",
       " 'with',\n",
       " 'their',\n",
       " 'shimmering',\n",
       " 'brilliance',\n",
       " '.']"
      ]
     },
     "execution_count": 72,
     "metadata": {},
     "output_type": "execute_result"
    }
   ],
   "source": [
    "tokenize_word"
   ]
  },
  {
   "cell_type": "code",
   "execution_count": 73,
   "id": "0f0540a6",
   "metadata": {},
   "outputs": [
    {
     "name": "stdout",
     "output_type": "stream",
     "text": [
      "['the', 'sun', 'set', 'behind', 'the', 'distant', 'mountain', ',', 'cast', 'a', 'warm', 'glow', 'across', 'the', 'tranquil', 'lake', '.', 'as', 'night', 'fell', ',', 'the', 'star', 'emerg', ',', 'paint', 'the', 'sky', 'with', 'their', 'shimmer', 'brillianc', '.']\n"
     ]
    }
   ],
   "source": [
    "from nltk.stem import PorterStemmer\n",
    "stem=[]\n",
    "for i in tokenize_word:\n",
    "    porter = PorterStemmer()\n",
    "    stem_word = porter.stem(i)\n",
    "    stem.append(stem_word)\n",
    "print(stem)"
   ]
  },
  {
   "cell_type": "code",
   "execution_count": 74,
   "id": "9a3e8bd8",
   "metadata": {},
   "outputs": [
    {
     "data": {
      "text/plain": [
       "'wa'"
      ]
     },
     "execution_count": 74,
     "metadata": {},
     "output_type": "execute_result"
    }
   ],
   "source": [
    "porter.stem('was')"
   ]
  },
  {
   "cell_type": "code",
   "execution_count": 75,
   "id": "f12bc950",
   "metadata": {},
   "outputs": [
    {
     "name": "stdout",
     "output_type": "stream",
     "text": [
      "['The', 'sun', 'set', 'behind', 'the', 'distant', 'mountain', ',', 'casting', 'a', 'warm', 'glow', 'across', 'the', 'tranquil', 'lake', '.', 'As', 'night', 'fell', ',', 'the', 'star', 'emerged', ',', 'painting', 'the', 'sky', 'with', 'their', 'shimmering', 'brilliance', '.']\n"
     ]
    }
   ],
   "source": [
    "from nltk.stem import WordNetLemmatizer\n",
    "lem_list = []\n",
    "for i in tokenize_word:\n",
    "    lemmatizer = WordNetLemmatizer()\n",
    "    lem_word = lemmatizer.lemmatize(i)\n",
    "    lem_list.append(lem_word)\n",
    "print(lem_list)"
   ]
  },
  {
   "cell_type": "code",
   "execution_count": 76,
   "id": "6ddfce5e",
   "metadata": {},
   "outputs": [],
   "source": [
    "from nltk import pos_tag"
   ]
  },
  {
   "cell_type": "code",
   "execution_count": 77,
   "id": "73c788c0",
   "metadata": {},
   "outputs": [],
   "source": [
    "pos_list = nltk.pos_tag(lem_list)"
   ]
  },
  {
   "cell_type": "code",
   "execution_count": 78,
   "id": "7616c333",
   "metadata": {},
   "outputs": [
    {
     "name": "stdout",
     "output_type": "stream",
     "text": [
      "[('The', 'DT'), ('sun', 'NN'), ('set', 'VBN'), ('behind', 'IN'), ('the', 'DT'), ('distant', 'JJ'), ('mountain', 'NN'), (',', ','), ('casting', 'VBG'), ('a', 'DT'), ('warm', 'JJ'), ('glow', 'NN'), ('across', 'IN'), ('the', 'DT'), ('tranquil', 'NN'), ('lake', 'NN'), ('.', '.'), ('As', 'IN'), ('night', 'NN'), ('fell', 'VBD'), (',', ','), ('the', 'DT'), ('star', 'NN'), ('emerged', 'VBD'), (',', ','), ('painting', 'VBG'), ('the', 'DT'), ('sky', 'NN'), ('with', 'IN'), ('their', 'PRP$'), ('shimmering', 'NN'), ('brilliance', 'NN'), ('.', '.')]\n"
     ]
    }
   ],
   "source": [
    "print(pos_list)"
   ]
  },
  {
   "cell_type": "code",
   "execution_count": 79,
   "id": "e6a93259",
   "metadata": {},
   "outputs": [],
   "source": [
    "#nltk.help.brown_tagset()"
   ]
  },
  {
   "cell_type": "code",
   "execution_count": 80,
   "id": "90a6348e",
   "metadata": {},
   "outputs": [],
   "source": [
    "from nltk.corpus import stopwords\n",
    "stop_words = stopwords.words('english')\n",
    "filtered_words = [w for w in tokenize_word if not w.lower() in stop_words]"
   ]
  },
  {
   "cell_type": "code",
   "execution_count": 81,
   "id": "c75acc65",
   "metadata": {},
   "outputs": [
    {
     "data": {
      "text/plain": [
       "['sun',\n",
       " 'set',\n",
       " 'behind',\n",
       " 'distant',\n",
       " 'mountains',\n",
       " ',',\n",
       " 'casting',\n",
       " 'warm',\n",
       " 'glow',\n",
       " 'across',\n",
       " 'tranquil',\n",
       " 'lake',\n",
       " '.',\n",
       " 'night',\n",
       " 'fell',\n",
       " ',',\n",
       " 'stars',\n",
       " 'emerged',\n",
       " ',',\n",
       " 'painting',\n",
       " 'sky',\n",
       " 'shimmering',\n",
       " 'brilliance',\n",
       " '.']"
      ]
     },
     "execution_count": 81,
     "metadata": {},
     "output_type": "execute_result"
    }
   ],
   "source": [
    "filtered_words"
   ]
  },
  {
   "cell_type": "code",
   "execution_count": 82,
   "id": "ce80b00a",
   "metadata": {},
   "outputs": [],
   "source": [
    "new_text = ' '.join(filtered_words)"
   ]
  },
  {
   "cell_type": "code",
   "execution_count": 83,
   "id": "30a6f36c",
   "metadata": {},
   "outputs": [
    {
     "data": {
      "text/plain": [
       "'sun set behind distant mountains , casting warm glow across tranquil lake . night fell , stars emerged , painting sky shimmering brilliance .'"
      ]
     },
     "execution_count": 83,
     "metadata": {},
     "output_type": "execute_result"
    }
   ],
   "source": [
    "new_text"
   ]
  },
  {
   "cell_type": "code",
   "execution_count": 84,
   "id": "2ac73420",
   "metadata": {},
   "outputs": [],
   "source": [
    "from sklearn.feature_extraction.text import TfidfVectorizer"
   ]
  },
  {
   "cell_type": "code",
   "execution_count": 85,
   "id": "589ada14",
   "metadata": {},
   "outputs": [],
   "source": [
    "tfidf = TfidfVectorizer()\n",
    "result = tfidf.fit_transform(tokenize_word)"
   ]
  },
  {
   "cell_type": "code",
   "execution_count": 86,
   "id": "2421d6d4",
   "metadata": {},
   "outputs": [
    {
     "name": "stdout",
     "output_type": "stream",
     "text": [
      "{'the': 18, 'sun': 17, 'set': 13, 'behind': 2, 'distant': 5, 'mountains': 10, 'casting': 4, 'warm': 21, 'glow': 8, 'across': 0, 'tranquil': 20, 'lake': 9, 'as': 1, 'night': 11, 'fell': 7, 'stars': 16, 'emerged': 6, 'painting': 12, 'sky': 15, 'with': 22, 'their': 19, 'shimmering': 14, 'brilliance': 3}\n"
     ]
    }
   ],
   "source": [
    "print(tfidf.vocabulary_)"
   ]
  },
  {
   "cell_type": "code",
   "execution_count": 89,
   "id": "5af2fd62",
   "metadata": {},
   "outputs": [
    {
     "name": "stdout",
     "output_type": "stream",
     "text": [
      "\n",
      "idf values : \n",
      "across : 3.833213344056216\n",
      "as : 3.833213344056216\n",
      "behind : 3.833213344056216\n",
      "brilliance : 3.833213344056216\n",
      "casting : 3.833213344056216\n",
      "distant : 3.833213344056216\n",
      "emerged : 3.833213344056216\n",
      "fell : 3.833213344056216\n",
      "glow : 3.833213344056216\n",
      "lake : 3.833213344056216\n",
      "mountains : 3.833213344056216\n",
      "night : 3.833213344056216\n",
      "painting : 3.833213344056216\n",
      "set : 3.833213344056216\n",
      "shimmering : 3.833213344056216\n",
      "sky : 3.833213344056216\n",
      "stars : 3.833213344056216\n",
      "sun : 3.833213344056216\n",
      "the : 2.734601055388106\n",
      "their : 3.833213344056216\n",
      "tranquil : 3.833213344056216\n",
      "warm : 3.833213344056216\n",
      "with : 3.833213344056216\n"
     ]
    }
   ],
   "source": [
    "print(\"\\nidf values : \")\n",
    "for ele1, ele2 in zip(tfidf.get_feature_names_out(), tfidf.idf_):\n",
    "    print(ele1, \":\", ele2)"
   ]
  }
 ],
 "metadata": {
  "kernelspec": {
   "display_name": "Python 3 (ipykernel)",
   "language": "python",
   "name": "python3"
  },
  "language_info": {
   "codemirror_mode": {
    "name": "ipython",
    "version": 3
   },
   "file_extension": ".py",
   "mimetype": "text/x-python",
   "name": "python",
   "nbconvert_exporter": "python",
   "pygments_lexer": "ipython3",
   "version": "3.10.9"
  }
 },
 "nbformat": 4,
 "nbformat_minor": 5
}
